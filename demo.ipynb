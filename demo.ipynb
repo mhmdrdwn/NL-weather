{
 "cells": [
  {
   "cell_type": "markdown",
   "metadata": {},
   "source": [
    "# Forcasting of wind speed\n",
    "\n",
    "Here we show the demo for 1 hour ahead forcasting"
   ]
  },
  {
   "cell_type": "code",
   "execution_count": 1,
   "metadata": {},
   "outputs": [],
   "source": [
    "from IPython.display import clear_output"
   ]
  },
  {
   "cell_type": "markdown",
   "metadata": {},
   "source": [
    "## Load Data"
   ]
  },
  {
   "cell_type": "code",
   "execution_count": 2,
   "metadata": {},
   "outputs": [
    {
     "data": {
      "text/plain": [
       "((70128, 7, 6), (10872, 7, 6))"
      ]
     },
     "execution_count": 2,
     "metadata": {},
     "output_type": "execute_result"
    }
   ],
   "source": [
    "from src.load_data import read_raw_data, make_ready_data\n",
    "train_data, test_data, scaler = read_raw_data()\n",
    "train_data.shape, test_data.shape"
   ]
  },
  {
   "cell_type": "markdown",
   "metadata": {},
   "source": [
    "### Models specs"
   ]
  },
  {
   "cell_type": "code",
   "execution_count": 3,
   "metadata": {},
   "outputs": [],
   "source": [
    "# input and output size are the number of series (cities)\n",
    "output_size = 7\n",
    "input_size = (7)\n",
    "# hidden size is number of LSTM units, this means 32 as it's BiLSTM\n",
    "hidden_size = 16\n",
    "\n",
    "# Only one layer of LSTM\n",
    "num_layers = 1"
   ]
  },
  {
   "cell_type": "markdown",
   "metadata": {},
   "source": [
    "## Using LSTM Baseline\n",
    "### 1 Hour ahead"
   ]
  },
  {
   "cell_type": "code",
   "execution_count": 4,
   "metadata": {},
   "outputs": [],
   "source": [
    "# build time series features and labels\n",
    "from src.data_utils import build_dataloader\n",
    "hours_ahead = 1 #1 Hour ahead, This is to be changed to (5, 10, 50...etc)\n",
    "xtrain, xval, ytrain, yval = make_ready_data(train_data, feature='speed',gap=hours_ahead)\n",
    "xtest, ytest = make_ready_data(test_data, train=False, feature='speed', gap=hours_ahead)\n",
    "train_iter, val_iter, test_iter, device = build_dataloader(xtrain, xval, xtest, ytrain, yval, ytest)"
   ]
  },
  {
   "cell_type": "code",
   "execution_count": 7,
   "metadata": {},
   "outputs": [],
   "source": [
    "from src.models import LSTM\n",
    "from src.run import run_train, validate\n",
    "from src.run import run_test\n",
    "\n",
    "# build the model\n",
    "lstm_baseline = LSTM(output_size, input_size, hidden_size, num_layers)\n",
    "lstm_baseline = lstm_baseline.to(device)\n",
    "\n",
    "# train the model\n",
    "lstm_baseline = run_train(lstm_baseline, train_iter, val_iter, num_epochs=10, features_set=1)\n",
    "\n",
    "#now we test the model\n",
    "y_true, y_preds = run_test(lstm_baseline, test_iter, scaler, features_set=1)\n",
    "\n",
    "clear_output()"
   ]
  },
  {
   "cell_type": "code",
   "execution_count": 8,
   "metadata": {},
   "outputs": [
    {
     "name": "stdout",
     "output_type": "stream",
     "text": [
      "RMSE:  11.844697\n",
      "MAE:  8.992798\n"
     ]
    }
   ],
   "source": [
    "# get evaluation metrics on test data\n",
    "from src.vis import results\n",
    "results(y_true, y_preds, plots=False)"
   ]
  },
  {
   "cell_type": "markdown",
   "metadata": {},
   "source": [
    "## Using AutoencoderLSTM (Composite)"
   ]
  },
  {
   "cell_type": "code",
   "execution_count": null,
   "metadata": {},
   "outputs": [
    {
     "name": "stderr",
     "output_type": "stream",
     "text": [
      " 47%|████▋     | 437/938 [00:33<00:37, 13.39it/s]"
     ]
    }
   ],
   "source": [
    "from src.models import AutoEncoderLSTM\n",
    "from src.run import run_train, validate\n",
    "from src.run import run_test\n",
    "\n",
    "# build the model\n",
    "ae_lstm = AutoEncoderLSTM(output_size, input_size, hidden_size, num_layers)\n",
    "ae_lstm = ae_lstm.to(device)\n",
    "\n",
    "# train the model\n",
    "ae_lstm = run_train(ae_lstm, train_iter, val_iter, num_epochs=10, features_set=1, outputs_nr=2)\n",
    "\n",
    "#now we test the model\n",
    "y_true, y_preds = run_test(ae_lstm, test_iter, scaler, features_set=1)\n",
    "\n",
    "clear_output()"
   ]
  },
  {
   "cell_type": "markdown",
   "metadata": {},
   "source": [
    "## Using LSTM with BiLinear Pooling Fusion"
   ]
  },
  {
   "cell_type": "code",
   "execution_count": 6,
   "metadata": {},
   "outputs": [],
   "source": [
    "# build time series features and labels including temperature time series\n",
    "xtrain, xval, ytrain, yval = make_ready_data(train_data, feature='speed',gap=hours_ahead)\n",
    "xtrain_temp, xval_temp, _, _ = make_ready_data(train_data, feature='temperature', gap=hours_ahead)\n",
    "xtest, ytest = make_ready_data(test_data, train=False, feature='speed', gap=hours_ahead)\n",
    "xtest_temp, _ = make_ready_data(test_data, train=False, feature='temperature', gap=hours_ahead)\n",
    "train_iter, val_iter, test_iter, device = build_dataloader(xtrain, xval, xtest, \n",
    "                                                           ytrain, yval, ytest, \n",
    "                                                           xtrain_temp, xval_temp,  \n",
    "                                                           xtest_temp, add_temp=True)"
   ]
  },
  {
   "cell_type": "code",
   "execution_count": 7,
   "metadata": {},
   "outputs": [],
   "source": [
    "from src.models import BiLinearPoolingLSTM\n",
    "\n",
    "lstm_model = BiLinearPoolingLSTM(output_size, input_size, hidden_size, num_layers)\n",
    "lstm_model = lstm_model.to(device)\n",
    "lstm_model = run_train(lstm_model, train_iter, val_iter, num_epochs=10)\n",
    "\n",
    "y_true, y_preds = run_test(lstm_model, test_iter, scaler)\n",
    "clear_output()"
   ]
  },
  {
   "cell_type": "code",
   "execution_count": 8,
   "metadata": {},
   "outputs": [
    {
     "name": "stdout",
     "output_type": "stream",
     "text": [
      "RMSE:  10.82287\n",
      "MAE:  7.305436\n"
     ]
    }
   ],
   "source": [
    "results(y_true, y_preds, plots=False)"
   ]
  },
  {
   "cell_type": "code",
   "execution_count": 1,
   "metadata": {},
   "outputs": [],
   "source": [
    "from src.models import AutoEncoderLSTM"
   ]
  },
  {
   "cell_type": "code",
   "execution_count": null,
   "metadata": {},
   "outputs": [],
   "source": []
  },
  {
   "cell_type": "markdown",
   "metadata": {},
   "source": [
    "# Forcasting of Wind Direction"
   ]
  },
  {
   "cell_type": "code",
   "execution_count": 8,
   "metadata": {},
   "outputs": [],
   "source": [
    "# build time series features and labels\n",
    "from src.data_utils import build_dataloader\n",
    "from src.load_data import make_wind_direction_data\n",
    "hours_ahead = 1 #1 Hour ahead, This is to be changed to (5, 10, 50...etc)\n",
    "xtrain, xval, ytrain, yval = make_wind_direction_data(train_data, gap=hours_ahead)\n",
    "xtest, ytest = make_wind_direction_data(test_data, train=False, gap=hours_ahead)\n",
    "train_iter, val_iter, test_iter, device = build_dataloader(xtrain, xval, xtest, ytrain, yval, ytest)"
   ]
  },
  {
   "cell_type": "code",
   "execution_count": 9,
   "metadata": {},
   "outputs": [],
   "source": [
    "\"\"\"input and output size are the number of series (cities) twice\n",
    "because we ave cosine and sine direction\"\"\"\n",
    "input_size = (14)\n",
    "output_size = 14"
   ]
  },
  {
   "cell_type": "markdown",
   "metadata": {},
   "source": [
    "## Using LSTM Baseline\n",
    "### 1 Hour ahead"
   ]
  },
  {
   "cell_type": "code",
   "execution_count": 11,
   "metadata": {},
   "outputs": [],
   "source": [
    "from src.run import run_test_direction\n",
    "\n",
    "# build the model\n",
    "lstm_baseline = LSTM(output_size, input_size, hidden_size, num_layers)\n",
    "lstm_baseline = lstm_baseline.to(device)\n",
    "\n",
    "# train the model\n",
    "lstm_baseline = run_train(lstm_baseline, train_iter, val_iter, num_epochs=10, features_set=1)\n",
    "\n",
    "#now we test the model\n",
    "y_true, y_preds = run_test_direction(lstm_baseline, test_iter, scaler, features_set=1)\n",
    "clear_output()"
   ]
  },
  {
   "cell_type": "code",
   "execution_count": 12,
   "metadata": {},
   "outputs": [
    {
     "name": "stdout",
     "output_type": "stream",
     "text": [
      "RMSE:  65.7913331042946\n",
      "MAE:  29.07654456432341\n"
     ]
    }
   ],
   "source": [
    "# get evaluation metrics on test data\n",
    "results(y_true, y_preds, plots=False)"
   ]
  },
  {
   "cell_type": "markdown",
   "metadata": {},
   "source": [
    "## Using LSTM with BiLinear Pooling Fusion\n",
    "### 1 Hour ahead"
   ]
  },
  {
   "cell_type": "code",
   "execution_count": 10,
   "metadata": {},
   "outputs": [],
   "source": [
    "# build time series features and labels including tempreture time series\n",
    "xtrain_temp, xval_temp, _, _ = make_ready_data(train_data, feature='temperature', gap=hours_ahead)\n",
    "xtest_temp, _ = make_ready_data(test_data, train=False, feature='temperature', gap=hours_ahead)\n",
    "xtrain, xval, ytrain, yval = make_wind_direction_data(train_data, gap=hours_ahead)\n",
    "xtest, ytest = make_wind_direction_data(test_data, train=False, gap=hours_ahead)\n",
    "\n",
    "train_iter, val_iter, test_iter, device = build_dataloader(xtrain, xval, xtest, \n",
    "                                                           ytrain, yval, ytest, \n",
    "                                                           xtrain_temp, xval_temp,  \n",
    "                                                           xtest_temp, add_temp=True)"
   ]
  },
  {
   "cell_type": "code",
   "execution_count": 15,
   "metadata": {},
   "outputs": [],
   "source": [
    "input_size = (14, 7) # since the cosine+sine features = 14, tempretaure features = 7\n",
    "output_size = 14 \n",
    "\n",
    "lstm_model = BiLinearPoolingLSTM(output_size, input_size, hidden_size, num_layers)\n",
    "lstm_model = lstm_model.to(device)\n",
    "lstm_model = run_train(lstm_model, train_iter, val_iter, num_epochs=10)\n",
    "y_true, y_preds = run_test_direction(lstm_model, test_iter, scaler)\n",
    "clear_output()"
   ]
  },
  {
   "cell_type": "code",
   "execution_count": 16,
   "metadata": {},
   "outputs": [
    {
     "name": "stdout",
     "output_type": "stream",
     "text": [
      "RMSE:  58.74165284144138\n",
      "MAE:  22.95404277711164\n"
     ]
    }
   ],
   "source": [
    "# get evaluation metrics on test data\n",
    "results(y_true, y_preds, plots=False)"
   ]
  }
 ],
 "metadata": {
  "kernelspec": {
   "display_name": "Python 3",
   "language": "python",
   "name": "python3"
  },
  "language_info": {
   "codemirror_mode": {
    "name": "ipython",
    "version": 3
   },
   "file_extension": ".py",
   "mimetype": "text/x-python",
   "name": "python",
   "nbconvert_exporter": "python",
   "pygments_lexer": "ipython3",
   "version": "3.7.4"
  }
 },
 "nbformat": 4,
 "nbformat_minor": 4
}
