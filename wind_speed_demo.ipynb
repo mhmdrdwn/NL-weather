{
 "cells": [
  {
   "cell_type": "markdown",
   "metadata": {},
   "source": [
    "The dataset contains speed, direction, tempreture and other features. The dataset is downloaded from the following study "
   ]
  },
  {
   "cell_type": "code",
   "execution_count": 1,
   "metadata": {
    "_cell_guid": "b1076dfc-b9ad-4769-8c92-a6c4dae69d19",
    "_uuid": "8f2839f25d086af736a60e9eeb907d3b93b6e0e5",
    "execution": {
     "iopub.execute_input": "2022-03-29T00:00:28.804733Z",
     "iopub.status.busy": "2022-03-29T00:00:28.804114Z",
     "iopub.status.idle": "2022-03-29T00:00:43.011641Z",
     "shell.execute_reply": "2022-03-29T00:00:43.010619Z",
     "shell.execute_reply.started": "2022-03-29T00:00:28.804590Z"
    }
   },
   "outputs": [
    {
     "name": "stdout",
     "output_type": "stream",
     "text": [
      "Cloning into 'multidim_conv'...\n",
      "remote: Enumerating objects: 59, done.\u001b[K\n",
      "remote: Counting objects: 100% (25/25), done.\u001b[K\n",
      "remote: Compressing objects: 100% (22/22), done.\u001b[K\n",
      "remote: Total 59 (delta 10), reused 12 (delta 3), pack-reused 34\u001b[K\n",
      "Unpacking objects: 100% (59/59), 145.58 MiB | 12.48 MiB/s, done.\n"
     ]
    }
   ],
   "source": [
    "!git clone https://github.com/HansBambel/multidim_conv.git"
   ]
  },
  {
   "cell_type": "markdown",
   "metadata": {},
   "source": [
    "## Load Data"
   ]
  },
  {
   "cell_type": "code",
   "execution_count": 1,
   "metadata": {},
   "outputs": [],
   "source": [
    "from src.load_data import read_raw_data, make_ready_data"
   ]
  },
  {
   "cell_type": "code",
   "execution_count": 2,
   "metadata": {},
   "outputs": [
    {
     "data": {
      "text/plain": [
       "((70128, 7, 6), (10872, 7, 6))"
      ]
     },
     "execution_count": 2,
     "metadata": {},
     "output_type": "execute_result"
    }
   ],
   "source": [
    "train_data, test_data, scaler = read_raw_data()\n",
    "train_data.shape, test_data.shape"
   ]
  },
  {
   "cell_type": "code",
   "execution_count": 3,
   "metadata": {},
   "outputs": [
    {
     "data": {
      "text/plain": [
       "{'Features': ['Wind speed in 0.1m/s',\n",
       "  'Wind direction in degrees (360 North, 90 East, 0 No wind)',\n",
       "  'Temperature in 0.1C',\n",
       "  'Dew Point in 0.1C',\n",
       "  'Air Pressure in 0.1hpa',\n",
       "  'Rain amount in 0.1mm'],\n",
       " 'feature_min_train': array([ 0.000e+00,  0.000e+00, -1.950e+02, -2.170e+02,  9.681e+03,\n",
       "        -1.000e+00]),\n",
       " 'feature_max_train': array([  240.,   360.,   376.,   230., 10462.,   481.])}"
      ]
     },
     "execution_count": 3,
     "metadata": {},
     "output_type": "execute_result"
    }
   ],
   "source": [
    "# min and max values of the data\n",
    "scaler"
   ]
  },
  {
   "cell_type": "markdown",
   "metadata": {},
   "source": [
    "## Using LSTM with BiLinear Pooling Fusion\n",
    "\n",
    "The following models are running in my own CPU, so it's very slow. It should be very fast if it runs on kaggle or google colab.\n",
    "\n",
    "### 1 Hour ahead"
   ]
  },
  {
   "cell_type": "code",
   "execution_count": 4,
   "metadata": {},
   "outputs": [
    {
     "data": {
      "text/plain": [
       "((60000, 10, 7),\n",
       " (10116, 10, 7),\n",
       " (60000, 7),\n",
       " (10116, 7),\n",
       " (10860, 10, 7),\n",
       " (10860, 7))"
      ]
     },
     "execution_count": 4,
     "metadata": {},
     "output_type": "execute_result"
    }
   ],
   "source": [
    "# build time series features and labels\n",
    "xtrain, xval, ytrain, yval = make_ready_data(train_data, feature='speed',gap=1)\n",
    "xtrain_temp, xval_temp, _, _ = make_ready_data(train_data, feature='tempreture', gap=1)\n",
    "xtest, ytest = make_ready_data(test_data, train=False, feature='speed', gap=1)\n",
    "xtest_temp, _ = make_ready_data(test_data, train=False, feature='tempreture', gap=1)\n",
    "xtrain.shape, xval.shape, ytrain.shape, yval.shape,xtest.shape, ytest.shape"
   ]
  },
  {
   "cell_type": "code",
   "execution_count": 5,
   "metadata": {},
   "outputs": [],
   "source": [
    "# build dataloader\n",
    "from src.data_utils import build_dataloader\n",
    "train_iter, val_iter, test_iter, device = build_dataloader(xtrain, xval, xtest, \n",
    "                                                           xtrain_temp, xval_temp, \n",
    "                                                           xtest_temp, ytrain, \n",
    "                                                           yval, ytest)"
   ]
  },
  {
   "cell_type": "code",
   "execution_count": null,
   "metadata": {},
   "outputs": [
    {
     "name": "stderr",
     "output_type": "stream",
     "text": [
      "100%|██████████| 938/938 [02:00<00:00,  7.75it/s]\n",
      "100%|██████████| 159/159 [00:08<00:00, 18.50it/s]\n",
      "  0%|          | 1/938 [00:00<02:37,  5.94it/s]"
     ]
    },
    {
     "name": "stdout",
     "output_type": "stream",
     "text": [
      "Epoch:  1 , Train Loss:  0.003111670906372519 , Val Loss:  0.0021834732\n"
     ]
    },
    {
     "name": "stderr",
     "output_type": "stream",
     "text": [
      "100%|██████████| 938/938 [01:59<00:00,  7.85it/s]\n",
      "100%|██████████| 159/159 [00:07<00:00, 21.67it/s]\n",
      "100%|██████████| 938/938 [02:00<00:00,  7.80it/s]\n",
      "100%|██████████| 159/159 [00:07<00:00, 22.64it/s]\n",
      "  0%|          | 1/938 [00:00<02:11,  7.13it/s]"
     ]
    },
    {
     "name": "stdout",
     "output_type": "stream",
     "text": [
      "Epoch:  3 , Train Loss:  0.0016815283793463571 , Val Loss:  0.0017920024\n"
     ]
    },
    {
     "name": "stderr",
     "output_type": "stream",
     "text": [
      " 78%|███████▊  | 736/938 [01:37<00:29,  6.80it/s]"
     ]
    }
   ],
   "source": [
    "from src.models import BiLinearPoolingLSTM\n",
    "from src.run import run_train, validate, run_test\n",
    "\n",
    "# Model specs\n",
    "input_size = output_size = 7\n",
    "hidden_size = 16\n",
    "num_layers = 1\n",
    "\n",
    "# build the model\n",
    "lstm_model = BiLinearPoolingLSTM(output_size, input_size, hidden_size, num_layers)\n",
    "lstm_model = lstm_model.to(device)\n",
    "\n",
    "# train the model\n",
    "lstm_model = run_train(lstm_model, train_iter, val_iter, num_epochs=10)"
   ]
  },
  {
   "cell_type": "code",
   "execution_count": null,
   "metadata": {},
   "outputs": [],
   "source": [
    "y_true, y_preds = run_test(lstm_model, test_iter, scaler)"
   ]
  },
  {
   "cell_type": "code",
   "execution_count": null,
   "metadata": {},
   "outputs": [],
   "source": [
    "from src.vis import results\n",
    "results(y_true, y_preds, plots=True)"
   ]
  },
  {
   "cell_type": "markdown",
   "metadata": {},
   "source": [
    "The very last few predictions gives exaggerated higher or lower values.. The reason for this is not understood yet"
   ]
  },
  {
   "cell_type": "markdown",
   "metadata": {},
   "source": [
    "### 5 Hours ahead"
   ]
  },
  {
   "cell_type": "code",
   "execution_count": 11,
   "metadata": {
    "execution": {
     "iopub.execute_input": "2022-03-29T00:02:53.860048Z",
     "iopub.status.busy": "2022-03-29T00:02:53.859671Z",
     "iopub.status.idle": "2022-03-29T00:05:06.428584Z",
     "shell.execute_reply": "2022-03-29T00:05:06.427575Z",
     "shell.execute_reply.started": "2022-03-29T00:02:53.860013Z"
    }
   },
   "outputs": [
    {
     "name": "stdout",
     "output_type": "stream",
     "text": [
      "Epoch:  1 , Train Loss:  0.004730927003949666 , Val Loss:  0.003500427\n",
      "Epoch:  3 , Train Loss:  0.0032807041660446656 , Val Loss:  0.0030898903\n",
      "Epoch:  5 , Train Loss:  0.0030257366112381744 , Val Loss:  0.0028989867\n",
      "Epoch:  7 , Train Loss:  0.0029208143426627635 , Val Loss:  0.0028274287\n",
      "Epoch:  9 , Train Loss:  0.0028618395974266846 , Val Loss:  0.0027826112\n",
      "Test Data:\n",
      "RMSE:  13.85252\n",
      "MAE:  9.184157\n"
     ]
    }
   ],
   "source": [
    "xtrain, xval, ytrain, yval = make_ready_data(train_data, feature='speed',gap=5)\n",
    "xtrain_temp, xval_temp, _, _ = make_ready_data(train_data, feature='tempreture', gap=5)\n",
    "xtest, ytest = make_ready_data(test_data, train=False, feature='speed', gap=5)\n",
    "xtest_temp, _ = make_ready_data(test_data, train=False, feature='tempreture', gap=5)\n",
    "\n",
    "train_iter, val_iter, test_iter, device = build_dataloader(xtrain, xval, xtest, \n",
    "                                                           xtrain_temp, xval_temp, \n",
    "                                                           xtest_temp, ytrain, \n",
    "                                                           yval, ytest)\n",
    "\n",
    "lstm_model = BiLinearPoolingLSTM(output_size, input_size, hidden_size, num_layers)\n",
    "lstm_model = lstm_model.to(device)\n",
    "lstm_model = run_train(lstm_model, train_iter, val_iter, num_epochs=10)\n",
    "y_true, y_preds = run_test(lstm_model)\n",
    "\n",
    "print('Test Data:')\n",
    "results(y_true, y_preds, plots=False)"
   ]
  },
  {
   "cell_type": "markdown",
   "metadata": {},
   "source": [
    "## 10 Hours ahead"
   ]
  },
  {
   "cell_type": "code",
   "execution_count": 12,
   "metadata": {
    "execution": {
     "iopub.execute_input": "2022-03-29T00:05:06.431232Z",
     "iopub.status.busy": "2022-03-29T00:05:06.430213Z",
     "iopub.status.idle": "2022-03-29T00:07:19.138490Z",
     "shell.execute_reply": "2022-03-29T00:07:19.137305Z",
     "shell.execute_reply.started": "2022-03-29T00:05:06.431192Z"
    }
   },
   "outputs": [
    {
     "name": "stdout",
     "output_type": "stream",
     "text": [
      "Epoch:  1 , Train Loss:  0.006010674732252717 , Val Loss:  0.0045241723\n",
      "Epoch:  3 , Train Loss:  0.0048307917287587114 , Val Loss:  0.004419077\n",
      "Epoch:  5 , Train Loss:  0.004663910239940878 , Val Loss:  0.0043506706\n",
      "Epoch:  7 , Train Loss:  0.0045244124045829845 , Val Loss:  0.00429912\n",
      "Epoch:  9 , Train Loss:  0.004421364447883348 , Val Loss:  0.0042680562\n",
      "Test Data:\n",
      "RMSE:  16.162317\n",
      "MAE:  11.48787\n"
     ]
    }
   ],
   "source": [
    "xtrain, xval, ytrain, yval = make_ready_data(train_data, feature='speed',gap=10)\n",
    "xtrain_temp, xval_temp, _, _ = make_ready_data(train_data, feature='tempreture', gap=10)\n",
    "xtest, ytest = make_ready_data(test_data, train=False, feature='speed', gap=10)\n",
    "xtest_temp, _ = make_ready_data(test_data, train=False, feature='tempreture', gap=10)\n",
    "\n",
    "train_iter, val_iter, test_iter, device = build_dataloader(xtrain, xval, xtest, \n",
    "                                                           xtrain_temp, xval_temp, \n",
    "                                                           xtest_temp, ytrain, \n",
    "                                                           yval, ytest)\n",
    "\n",
    "lstm_model = BiLinearPoolingLSTM(output_size, input_size, hidden_size, num_layers)\n",
    "lstm_model = lstm_model.to(device)\n",
    "\n",
    "lstm_model = run_train(lstm_model, train_iter, val_iter, num_epochs=10)\n",
    "y_true, y_preds = run_test(lstm_model)\n",
    "\n",
    "print('Test Data:')\n",
    "results(y_true, y_preds, plots=False)"
   ]
  },
  {
   "cell_type": "code",
   "execution_count": 13,
   "metadata": {
    "execution": {
     "iopub.execute_input": "2022-03-29T00:07:19.141000Z",
     "iopub.status.busy": "2022-03-29T00:07:19.140313Z",
     "iopub.status.idle": "2022-03-29T00:09:32.168710Z",
     "shell.execute_reply": "2022-03-29T00:09:32.167612Z",
     "shell.execute_reply.started": "2022-03-29T00:07:19.140946Z"
    }
   },
   "outputs": [
    {
     "name": "stdout",
     "output_type": "stream",
     "text": [
      "Epoch:  1 , Train Loss:  0.009099008107154784 , Val Loss:  0.008012023\n",
      "Epoch:  3 , Train Loss:  0.008384591996369919 , Val Loss:  0.008037458\n",
      "Epoch:  5 , Train Loss:  0.008288733531355556 , Val Loss:  0.008044602\n",
      "Epoch:  7 , Train Loss:  0.008224498602062234 , Val Loss:  0.008072225\n",
      "Epoch:  9 , Train Loss:  0.008182332686050288 , Val Loss:  0.008144436\n",
      "Test Data:\n",
      "RMSE:  22.836233\n",
      "MAE:  17.541508\n"
     ]
    }
   ],
   "source": [
    "xtrain, xval, ytrain, yval = make_ready_data(train_data, feature='speed',gap=50)\n",
    "xtrain_temp, xval_temp, _, _ = make_ready_data(train_data, feature='tempreture', gap=50)\n",
    "xtest, ytest = make_ready_data(test_data, train=False, feature='speed', gap=50)\n",
    "xtest_temp, _ = make_ready_data(test_data, train=False, feature='tempreture', gap=50)\n",
    "\n",
    "train_iter, val_iter, test_iter, device = build_dataloader(xtrain, xval, xtest, \n",
    "                                                           xtrain_temp, xval_temp, \n",
    "                                                           xtest_temp, ytrain, \n",
    "                                                           yval, ytest)\n",
    "\n",
    "lstm_model = BiLinearPoolingLSTM(output_size, input_size, hidden_size, num_layers)\n",
    "lstm_model = lstm_model.to(device)\n",
    "\n",
    "lstm_model = run_train(lstm_model, train_iter, val_iter, num_epochs=10)\n",
    "y_true, y_preds = run_test(lstm_model)\n",
    "\n",
    "print('Test Data:')\n",
    "results(y_true, y_preds, plots=False)"
   ]
  },
  {
   "cell_type": "markdown",
   "metadata": {},
   "source": [
    "## References:\n",
    "\n",
    "- Dataset from \"Trebing, Kevin and Mehrkanoon, Siamak, 2020, Wind speed prediction using multidimensional convolutional neural networks\""
   ]
  }
 ],
 "metadata": {
  "kernelspec": {
   "display_name": "Python 3",
   "language": "python",
   "name": "python3"
  },
  "language_info": {
   "codemirror_mode": {
    "name": "ipython",
    "version": 3
   },
   "file_extension": ".py",
   "mimetype": "text/x-python",
   "name": "python",
   "nbconvert_exporter": "python",
   "pygments_lexer": "ipython3",
   "version": "3.7.4"
  }
 },
 "nbformat": 4,
 "nbformat_minor": 4
}
